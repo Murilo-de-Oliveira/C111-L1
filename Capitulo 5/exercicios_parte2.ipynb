{
 "cells": [
  {
   "cell_type": "markdown",
   "metadata": {},
   "source": [
    "### Exercícios parte 2"
   ]
  },
  {
   "cell_type": "code",
   "execution_count": 1,
   "metadata": {},
   "outputs": [],
   "source": [
    "import numpy as np\n",
    "import pandas as pd"
   ]
  },
  {
   "cell_type": "markdown",
   "metadata": {},
   "source": [
    "6 - Utilizando do DataFrame exemplo do tópico 5.3 deste material, calcule a\n",
    "média dos elementos da coluna X que são menores que 30"
   ]
  },
  {
   "cell_type": "code",
   "execution_count": 3,
   "metadata": {},
   "outputs": [
    {
     "name": "stdout",
     "output_type": "stream",
     "text": [
      "    W   X   Y   Z\n",
      "A  45  44  31  33\n",
      "B   2  26  21  38\n",
      "C   6  43  34  23\n",
      "D   3  11  49   4\n",
      "E  12  29  37  40\n"
     ]
    }
   ],
   "source": [
    "# criando um dataframe\n",
    "df = pd.DataFrame(\n",
    "index=['A', 'B', 'C', 'D', 'E'],\n",
    "columns=['W', 'X', 'Y', 'Z'],\n",
    "data=np.random.randint(1, 50, [5, 4]))\n",
    "\n",
    "print(df)"
   ]
  },
  {
   "cell_type": "code",
   "execution_count": 11,
   "metadata": {},
   "outputs": [
    {
     "name": "stdout",
     "output_type": "stream",
     "text": [
      "Média de elementos da coluna X menores que 30: 22.0\n"
     ]
    }
   ],
   "source": [
    "coluna_x = df['X']\n",
    "filtro = df['X'] < 30\n",
    "media = np.mean(coluna_x[filtro])\n",
    "print(f'Média de elementos da coluna X menores que 30: {media}')"
   ]
  },
  {
   "cell_type": "markdown",
   "metadata": {},
   "source": [
    "7 - Utilizando do mesmo DataFrame, apresente a média dos elementos da\n",
    "linha D usando a função loc() como base e a soma dos elementos da linha E\n",
    "usando a função iloc() como base;"
   ]
  },
  {
   "cell_type": "code",
   "execution_count": 20,
   "metadata": {},
   "outputs": [
    {
     "name": "stdout",
     "output_type": "stream",
     "text": [
      "Média de elementos da linha D: 16.75\n",
      "Soma dos elementos da linha E: 118\n"
     ]
    }
   ],
   "source": [
    "linha_d = df.loc['D']\n",
    "media_d = np.mean(linha_d)\n",
    "print(f'Média de elementos da linha D: {media_d}')\n",
    "\n",
    "linha_e = df.iloc[4][:]\n",
    "soma_e = np.sum(linha_e)\n",
    "print(f'Soma dos elementos da linha E: {soma_e}')"
   ]
  },
  {
   "cell_type": "markdown",
   "metadata": {},
   "source": [
    "8 - Faça um Slicing na matriz mostrando apenas as linhas A, C e E\n",
    "juntamente com as colunas X e Y. Em seguida, mostre qual seria a soma dos\n",
    "elementos de cada uma destas linhas e cada uma destas colunas."
   ]
  },
  {
   "cell_type": "code",
   "execution_count": 33,
   "metadata": {},
   "outputs": [
    {
     "name": "stdout",
     "output_type": "stream",
     "text": [
      "    X   Y\n",
      "A  44  31\n",
      "C  43  34\n",
      "E  29  37\n",
      "Soma dos elementos das linhas: \n",
      "A    75\n",
      "C    77\n",
      "E    66\n",
      "dtype: int64\n",
      "Soma dos elementos das colunas: \n",
      "X    116\n",
      "Y    102\n",
      "dtype: int64\n"
     ]
    }
   ],
   "source": [
    "slicing = df.loc[['A','C','E'],['X','Y']]\n",
    "print(slicing)\n",
    "soma_linha = slicing.sum(axis=1) \n",
    "soma_coluna = slicing.sum(axis=0)\n",
    "print(f'Soma dos elementos das linhas: \\n{soma_linha}')\n",
    "print(f'Soma dos elementos das colunas: \\n{soma_coluna}')\n"
   ]
  }
 ],
 "metadata": {
  "kernelspec": {
   "display_name": "Python 3",
   "language": "python",
   "name": "python3"
  },
  "language_info": {
   "codemirror_mode": {
    "name": "ipython",
    "version": 3
   },
   "file_extension": ".py",
   "mimetype": "text/x-python",
   "name": "python",
   "nbconvert_exporter": "python",
   "pygments_lexer": "ipython3",
   "version": "3.12.9"
  }
 },
 "nbformat": 4,
 "nbformat_minor": 2
}
