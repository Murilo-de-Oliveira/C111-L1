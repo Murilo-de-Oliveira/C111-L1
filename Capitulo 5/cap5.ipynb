{
 "cells": [
  {
   "cell_type": "markdown",
   "metadata": {},
   "source": [
    "Pandas trabalha com Series (geralmente de uma dimensão, como um vetor) e Dataframes (duas ou mais dimensões)"
   ]
  },
  {
   "cell_type": "code",
   "execution_count": 2,
   "metadata": {},
   "outputs": [],
   "source": [
    "import pandas as pd\n",
    "import numpy as np"
   ]
  },
  {
   "cell_type": "markdown",
   "metadata": {},
   "source": [
    "PANDAS SERIES"
   ]
  },
  {
   "cell_type": "code",
   "execution_count": null,
   "metadata": {},
   "outputs": [
    {
     "name": "stdout",
     "output_type": "stream",
     "text": [
      "a    10\n",
      "b    20\n",
      "c    30\n",
      "dtype: int64\n",
      "<class 'pandas.core.series.Series'>\n",
      "20\n",
      "a    20.0\n",
      "b     NaN\n",
      "c    80.0\n",
      "d     NaN\n",
      "dtype: float64\n"
     ]
    }
   ],
   "source": [
    "labels = ['a', 'b', 'c']\n",
    "dados = [10, 20, 30]\n",
    "\n",
    "s1 = pd.Series(index=labels, data=dados)\n",
    "s2 = pd.Series({'a':10, 'c':50, 'd':80})\n",
    "\n",
    "print(s1) # retorna uma tabelinha bonitinha\n",
    "print(type(s1)) # retorna que o tipo de 's1' é uma series\n",
    "\n",
    "# Chamando um valor da Series (para acessar, se usa do modo chave-valor)\n",
    "print(s1['b'])\n",
    "\n",
    "# Soma com problema de matching? Não sei um termo mais exato\n",
    "print(s1 + s2)"
   ]
  },
  {
   "cell_type": "code",
   "execution_count": null,
   "metadata": {},
   "outputs": [
    {
     "name": "stdout",
     "output_type": "stream",
     "text": [
      "a    20.0\n",
      "b    20.0\n",
      "c    80.0\n",
      "d    80.0\n",
      "dtype: float64\n",
      "\n",
      "Slicing\n",
      "a    10\n",
      "c    30\n",
      "dtype: int64\n"
     ]
    }
   ],
   "source": [
    "print(s1.add(s2, fill_value=0))\n",
    "# Realiza a soma de s1 e s2\n",
    "# s2 é adicionado a s1 e os valores que não existirem entre s1 e s2 é preenchido com 0\n",
    "\n",
    "print('\\nSlicing')\n",
    "print(s1[['a','c']]) # slicing de dados\n",
    "#IMPORTANTE: pra fazer o slicing, importante passar uma lista"
   ]
  },
  {
   "cell_type": "markdown",
   "metadata": {},
   "source": [
    "Condicionais no Pandas (identico ao numpy)"
   ]
  },
  {
   "cell_type": "code",
   "execution_count": null,
   "metadata": {},
   "outputs": [
    {
     "name": "stdout",
     "output_type": "stream",
     "text": [
      "a    False\n",
      "b    False\n",
      "c     True\n",
      "dtype: bool\n",
      "c    30\n",
      "dtype: int64\n"
     ]
    }
   ],
   "source": [
    "print(s1 > s1.mean()) # retorno da condicional\n",
    "print(s1[s1 > s1.mean()]) # slicing com condicional"
   ]
  },
  {
   "cell_type": "markdown",
   "metadata": {},
   "source": [
    "PANDA DATAFRAMES"
   ]
  },
  {
   "cell_type": "code",
   "execution_count": 14,
   "metadata": {},
   "outputs": [
    {
     "name": "stdout",
     "output_type": "stream",
     "text": [
      "    W   X   Y   Z\n",
      "A  10  37  16   1\n",
      "B  29  26  30  49\n",
      "C  30   9  10   1\n",
      "D  43  41  37  17\n",
      "E  37  48  12  25\n"
     ]
    }
   ],
   "source": [
    "np.random.seed(10)\n",
    "\n",
    "df = pd.DataFrame(\n",
    "    index=['A', 'B', 'C', 'D', 'E'],\n",
    "    columns=['W','X','Y','Z'],\n",
    "    data=np.random.randint(1, 50, [5,4])\n",
    ")\n",
    "\n",
    "print(df)"
   ]
  },
  {
   "cell_type": "markdown",
   "metadata": {},
   "source": [
    "slicing de uma coluna ou de uma linha"
   ]
  },
  {
   "cell_type": "code",
   "execution_count": null,
   "metadata": {},
   "outputs": [
    {
     "name": "stdout",
     "output_type": "stream",
     "text": [
      "    W   Z\n",
      "A  10   1\n",
      "B  29  49\n",
      "C  30   1\n",
      "D  43  17\n",
      "E  37  25\n",
      "41\n"
     ]
    }
   ],
   "source": [
    "print(df[['W','Z']]) # printa as colunas na lista\n",
    "print(df['X']['D']) # coluna seguida de linha"
   ]
  },
  {
   "cell_type": "markdown",
   "metadata": {},
   "source": [
    "Slicing com loc() ou iloc() (index loc)\n",
    "O loc significa localization"
   ]
  },
  {
   "cell_type": "code",
   "execution_count": null,
   "metadata": {},
   "outputs": [
    {
     "name": "stdout",
     "output_type": "stream",
     "text": [
      "    W   X   Y   Z\n",
      "A  10  37  16   1\n",
      "B  29  26  30  49\n",
      "    W   X   Y   Z\n",
      "A  10  37  16   1\n",
      "B  29  26  30  49\n",
      "    W   X   Z\n",
      "A  10  37   1\n",
      "B  29  26  49\n"
     ]
    }
   ],
   "source": [
    "# Notação do PANDAS\n",
    "print(df.loc[['A', 'B'], ['W','X','Y','Z']]) # mostra as duas primeiras linhas\n",
    "print(df.loc[['A', 'B']]) # também mostra as duas primeiras linhas\n",
    "print(df.loc[['A','B'], ['W','X','Z']]) # as duas primeiras linhas sem a coluna Y"
   ]
  },
  {
   "cell_type": "code",
   "execution_count": 24,
   "metadata": {},
   "outputs": [
    {
     "name": "stdout",
     "output_type": "stream",
     "text": [
      "    W   X   Y   Z\n",
      "A  10  37  16   1\n",
      "B  29  26  30  49\n"
     ]
    }
   ],
   "source": [
    "# Notação do NumPy\n",
    "print(df.iloc[0:2][:]) # mostra as duas primeiras linhas"
   ]
  }
 ],
 "metadata": {
  "kernelspec": {
   "display_name": "Python 3",
   "language": "python",
   "name": "python3"
  },
  "language_info": {
   "codemirror_mode": {
    "name": "ipython",
    "version": 3
   },
   "file_extension": ".py",
   "mimetype": "text/x-python",
   "name": "python",
   "nbconvert_exporter": "python",
   "pygments_lexer": "ipython3",
   "version": "3.12.9"
  }
 },
 "nbformat": 4,
 "nbformat_minor": 2
}
