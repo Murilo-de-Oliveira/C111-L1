{
 "cells": [
  {
   "cell_type": "code",
   "execution_count": 2,
   "metadata": {},
   "outputs": [],
   "source": [
    "import numpy as np\n",
    "import pandas as pd"
   ]
  },
  {
   "cell_type": "markdown",
   "metadata": {},
   "source": [
    "1 - Crie duas Series com os seguintes valores:\n",
    "    seriesAno1: {‘Java’: 16.25, ‘C’: 16.04, ‘Python’: 9.85}\n",
    "    seriesAno2: {‘C’: 16.21, ‘Python’: 12.12, ‘Java’: 11.68}"
   ]
  },
  {
   "cell_type": "code",
   "execution_count": 6,
   "metadata": {},
   "outputs": [
    {
     "name": "stdout",
     "output_type": "stream",
     "text": [
      "Series 1:\n",
      "Java      16.25\n",
      "C         16.04\n",
      "Python     9.85\n",
      "dtype: float64\n",
      "\n",
      "Series 2:\n",
      "C         16.21\n",
      "Python    12.12\n",
      "Java      11.68\n",
      "dtype: float64\n"
     ]
    }
   ],
   "source": [
    "seriesAno1 = pd.Series({'Java': 16.25, 'C': 16.04, 'Python': 9.85})\n",
    "seriesAno2 = pd.Series({'C': 16.21, 'Python': 12.12, 'Java': 11.68})\n",
    "\n",
    "print(f'Series 1:\\n{seriesAno1}')\n",
    "print()\n",
    "print(f'Series 2:\\n{seriesAno2}')"
   ]
  },
  {
   "cell_type": "markdown",
   "metadata": {},
   "source": [
    "2 - Os valores das Series criadas na Questão 1 representam as fatias de\n",
    "mercado (porcentagem) de 3 linguagens de programação populares em\n",
    "dois anos consecutivos. Para cada ano, apresente a porcentagem total que\n",
    "elas juntas representam no mercado"
   ]
  },
  {
   "cell_type": "code",
   "execution_count": 10,
   "metadata": {},
   "outputs": [
    {
     "name": "stdout",
     "output_type": "stream",
     "text": [
      "Ano 1: 42.14% do mercado\n",
      "Ano 2: 40.01% do mercado\n"
     ]
    }
   ],
   "source": [
    "soma_seriesAno1 = np.sum(seriesAno1)\n",
    "soma_seriesAno2 = np.sum(seriesAno2)\n",
    "print(f'Ano 1: {soma_seriesAno1}% do mercado')\n",
    "print(f'Ano 2: {soma_seriesAno2}% do mercado')"
   ]
  },
  {
   "cell_type": "markdown",
   "metadata": {},
   "source": [
    "3 - Apresente o crescimento/declínio no mercado de cada linguagem do\n",
    "primeiro ano para o segundo ano"
   ]
  },
  {
   "cell_type": "code",
   "execution_count": 26,
   "metadata": {},
   "outputs": [
    {
     "name": "stdout",
     "output_type": "stream",
     "text": [
      "A linguagem C teve um crescimento de 0.17%\n",
      "A linguagem Java teve um declínio de 4.57%\n",
      "A linguagem Python teve um crescimento de 2.27%\n",
      "Tabela de diferenças: \n",
      "C         0.17\n",
      "Java     -4.57\n",
      "Python    2.27\n",
      "dtype: float64\n"
     ]
    }
   ],
   "source": [
    "diferenca = seriesAno2.sub(seriesAno1, fill_value=0)\n",
    "\n",
    "for chave, valor in diferenca.items():\n",
    "    if valor < 0:\n",
    "        print(f'A linguagem {chave} teve um declínio de {abs(valor):.2f}%')\n",
    "    else:\n",
    "        print(f'A linguagem {chave} teve um crescimento de {abs(valor):.2f}%')\n",
    "\n",
    "print(f'Tabela de diferenças: \\n{diferenca}')"
   ]
  },
  {
   "cell_type": "markdown",
   "metadata": {},
   "source": [
    "4 - Baseado nos resultados da Questão 3, mostre apenas os dados das\n",
    "linguagens que tiveram crescimento"
   ]
  },
  {
   "cell_type": "code",
   "execution_count": 27,
   "metadata": {},
   "outputs": [
    {
     "name": "stdout",
     "output_type": "stream",
     "text": [
      "Linguagens que tiveram crescimento: \n",
      "C         0.17\n",
      "Python    2.27\n",
      "dtype: float64\n"
     ]
    }
   ],
   "source": [
    "filtro = diferenca > 0\n",
    "crescimento = diferenca[filtro]\n",
    "print(f'Linguagens que tiveram crescimento: \\n{crescimento}')"
   ]
  },
  {
   "cell_type": "markdown",
   "metadata": {},
   "source": [
    "5 - Se estas porcentagens de crescimento/declínio se mantivessem iguais\n",
    "para os próximos 2 anos, qual seria a linguagem mais popular?\n",
    "Dica: use o método nlargest(1) no final para retornar rapidamente a label\n",
    "e maior valor de uma Series"
   ]
  },
  {
   "cell_type": "code",
   "execution_count": 29,
   "metadata": {},
   "outputs": [
    {
     "name": "stdout",
     "output_type": "stream",
     "text": [
      "Linguagem mais popular: Python    2.27\n",
      "dtype: float64\n"
     ]
    }
   ],
   "source": [
    "mais_popular = diferenca.nlargest(1)\n",
    "print(f'Linguagem mais popular: {mais_popular}')"
   ]
  }
 ],
 "metadata": {
  "kernelspec": {
   "display_name": "Python 3",
   "language": "python",
   "name": "python3"
  },
  "language_info": {
   "codemirror_mode": {
    "name": "ipython",
    "version": 3
   },
   "file_extension": ".py",
   "mimetype": "text/x-python",
   "name": "python",
   "nbconvert_exporter": "python",
   "pygments_lexer": "ipython3",
   "version": "3.12.9"
  }
 },
 "nbformat": 4,
 "nbformat_minor": 2
}
